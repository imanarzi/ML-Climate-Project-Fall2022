{
 "cells": [
  {
   "cell_type": "code",
   "execution_count": null,
   "id": "3c5cf7ba",
   "metadata": {},
   "outputs": [],
   "source": [
    "# pentad data\n",
    "# daily data"
   ]
  },
  {
   "cell_type": "code",
   "execution_count": null,
   "id": "c6d56e54",
   "metadata": {},
   "outputs": [],
   "source": [
    "# x-means algorithm on raw pentad data"
   ]
  },
  {
   "cell_type": "code",
   "execution_count": null,
   "id": "77ceb929",
   "metadata": {},
   "outputs": [],
   "source": [
    "# visualization"
   ]
  },
  {
   "cell_type": "code",
   "execution_count": null,
   "id": "7c7c1cb5",
   "metadata": {},
   "outputs": [],
   "source": [
    "# x-means algorithm on raw daily data"
   ]
  },
  {
   "cell_type": "code",
   "execution_count": null,
   "id": "cb97e8f4",
   "metadata": {},
   "outputs": [],
   "source": [
    "# visualization"
   ]
  }
 ],
 "metadata": {
  "kernelspec": {
   "display_name": "Python 3 (ipykernel)",
   "language": "python",
   "name": "python3"
  },
  "language_info": {
   "codemirror_mode": {
    "name": "ipython",
    "version": 3
   },
   "file_extension": ".py",
   "mimetype": "text/x-python",
   "name": "python",
   "nbconvert_exporter": "python",
   "pygments_lexer": "ipython3",
   "version": "3.9.12"
  }
 },
 "nbformat": 4,
 "nbformat_minor": 5
}
