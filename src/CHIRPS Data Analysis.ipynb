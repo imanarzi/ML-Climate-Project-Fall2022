{
 "cells": [
  {
   "cell_type": "code",
   "execution_count": 1,
   "id": "873536d0",
   "metadata": {
    "scrolled": true
   },
   "outputs": [
    {
     "name": "stdout",
     "output_type": "stream",
     "text": [
      "Requirement already satisfied: pyclustering in /Users/imananwarzai/opt/anaconda3/lib/python3.9/site-packages (0.10.1.2)\r\n",
      "Requirement already satisfied: Pillow>=5.2.0 in /Users/imananwarzai/opt/anaconda3/lib/python3.9/site-packages (from pyclustering) (9.0.1)\r\n",
      "Requirement already satisfied: numpy>=1.15.2 in /Users/imananwarzai/opt/anaconda3/lib/python3.9/site-packages (from pyclustering) (1.21.5)\r\n",
      "Requirement already satisfied: matplotlib>=3.0.0 in /Users/imananwarzai/opt/anaconda3/lib/python3.9/site-packages (from pyclustering) (3.5.1)\r\n",
      "Requirement already satisfied: scipy>=1.1.0 in /Users/imananwarzai/opt/anaconda3/lib/python3.9/site-packages (from pyclustering) (1.7.3)\r\n",
      "Requirement already satisfied: kiwisolver>=1.0.1 in /Users/imananwarzai/opt/anaconda3/lib/python3.9/site-packages (from matplotlib>=3.0.0->pyclustering) (1.3.2)\r\n",
      "Requirement already satisfied: packaging>=20.0 in /Users/imananwarzai/opt/anaconda3/lib/python3.9/site-packages (from matplotlib>=3.0.0->pyclustering) (21.3)\r\n",
      "Requirement already satisfied: python-dateutil>=2.7 in /Users/imananwarzai/opt/anaconda3/lib/python3.9/site-packages (from matplotlib>=3.0.0->pyclustering) (2.8.2)\r\n",
      "Requirement already satisfied: fonttools>=4.22.0 in /Users/imananwarzai/opt/anaconda3/lib/python3.9/site-packages (from matplotlib>=3.0.0->pyclustering) (4.25.0)\r\n",
      "Requirement already satisfied: pyparsing>=2.2.1 in /Users/imananwarzai/opt/anaconda3/lib/python3.9/site-packages (from matplotlib>=3.0.0->pyclustering) (2.4.7)\r\n",
      "Requirement already satisfied: cycler>=0.10 in /Users/imananwarzai/opt/anaconda3/lib/python3.9/site-packages (from matplotlib>=3.0.0->pyclustering) (0.11.0)\r\n",
      "Requirement already satisfied: six>=1.5 in /Users/imananwarzai/opt/anaconda3/lib/python3.9/site-packages (from python-dateutil>=2.7->matplotlib>=3.0.0->pyclustering) (1.16.0)\r\n"
     ]
    }
   ],
   "source": [
    "!pip install pyclustering"
   ]
  },
  {
   "cell_type": "code",
   "execution_count": 2,
   "id": "f6ef4d1b",
   "metadata": {},
   "outputs": [
    {
     "data": {
      "image/png": "[encoded data removed]",
      "text/plain": [
       "<Figure size 432x288 with 1 Axes>"
      ]
     },
     "metadata": {
      "needs_background": "light"
     },
     "output_type": "display_data"
    },
    {
     "data": {
      "image/png": "[encoded data removed]",
      "text/plain": [
       "<Figure size 432x288 with 1 Axes>"
      ]
     },
     "execution_count": 2,
     "metadata": {},
     "output_type": "execute_result"
    }
   ],
   "source": [
    "from pyclustering.cluster import cluster_visualizer\n",
    "from pyclustering.cluster.xmeans import xmeans\n",
    "from pyclustering.cluster.center_initializer import kmeans_plusplus_initializer\n",
    "from pyclustering.utils import read_sample\n",
    "from pyclustering.samples.definitions import SIMPLE_SAMPLES\n",
    "\n",
    "# Read sample 'simple3' from file.\n",
    "sample = read_sample(SIMPLE_SAMPLES.SAMPLE_SIMPLE3)\n",
    "\n",
    "# Prepare initial centers - amount of initial centers defines amount of clusters from which X-Means will\n",
    "# start analysis.\n",
    "amount_initial_centers = 2\n",
    "initial_centers = kmeans_plusplus_initializer(sample, amount_initial_centers).initialize()\n",
    "\n",
    "# Create instance of X-Means algorithm. The algorithm will start analysis from 2 clusters, the maximum\n",
    "# number of clusters that can be allocated is 20.\n",
    "xmeans_instance = xmeans(sample, initial_centers, 20)\n",
    "xmeans_instance.process()\n",
    "\n",
    "# Extract clustering results: clusters and their centers\n",
    "clusters = xmeans_instance.get_clusters()\n",
    "centers = xmeans_instance.get_centers()\n",
    "\n",
    "# Visualize clustering results\n",
    "visualizer = cluster_visualizer()\n",
    "visualizer.append_clusters(clusters, sample)\n",
    "visualizer.append_cluster(centers, None, marker='*', markersize=10)\n",
    "visualizer.show()"
   ]
  },
  {
   "cell_type": "markdown",
   "id": "c95cec31",
   "metadata": {},
   "source": [
    "# Get pentad rainfall data"
   ]
  },
  {
   "cell_type": "code",
   "execution_count": 3,
   "id": "ef1fff80",
   "metadata": {},
   "outputs": [],
   "source": [
    "import numpy as np\n",
    "import os\n",
    "\n",
    "path = 'data/'\n",
    "image_folder = 'CHIRPS_SPI_4pentads/'\n",
    "lon = np.genfromtxt( path + \"AOI_longitude.csv\", delimiter=',')\n",
    "lat = np.genfromtxt( path + \"AOI_latitude.csv\", delimiter=',')\n",
    "    \n",
    "files_raw = np.array(os.listdir(path + image_folder))\n",
    "if '.DS_Store' in files_raw:    \n",
    "    files = np.delete( files_raw, np.where(files_raw == '.DS_Store')[0][0] )\n",
    "else:\n",
    "    files = files_raw\n",
    "files = np.sort(files)\n",
    "ymp = [ (f.split('_')[1][1:5],  f.split('_')[1].split('m')[1].split('p')[0] ,\n",
    "            f.split('_')[1].split('m')[1].split('p')[1])  for f in files]\n",
    "image_arr = np.array([ np.genfromtxt( path + image_folder + f, delimiter=',') for f in files])\n",
    "# image_arr_reshaped = np.transpose(image_arr, (1,2,0))\n",
    "\n",
    "data_dict = {'latitude': lat,\n",
    "        'longitude':lon,\n",
    "        'imagearray': image_arr,\n",
    "        'filenames':files,\n",
    "        'ymp': ymp}"
   ]
  },
  {
   "cell_type": "code",
   "execution_count": 4,
   "id": "179cecce",
   "metadata": {},
   "outputs": [],
   "source": [
    "def normalize_array(data_array, transform = None, axis = 0):\n",
    "    '''\n",
    "    Parameters\n",
    "    ----------\n",
    "    data_array : 3-d numpy array \n",
    "        specifically a stack of rasters with time, lon (x), lat(y)\n",
    "        data to get normalized\n",
    "    \n",
    "    transform: function(ndarray), (optional) :\n",
    "        optional transformation function to apply across the data before transofrmation\n",
    "        i.e. np.log10()\n",
    "        \n",
    "    axis: int or None, (optional) - default 0:\n",
    "        aggregate mean and standard deviation over this axis\n",
    "        select 0 to do a pixel-wise normalization\n",
    "        select None to do a dataset-wide normalization\n",
    "        \n",
    "\n",
    "    Returns\n",
    "    -------\n",
    "    data_norm: a normalized version of that 3-d array, where every \"image\" in the time dimension is \n",
    "    normalized to \n",
    "    '''\n",
    "    \n",
    "    if transform != None:\n",
    "        transformed_arr = transform(data_array)\n",
    "    else:\n",
    "        transformed_arr = data_array\n",
    "    mean = np.nanmean(transformed_arr, axis = axis)\n",
    "    std = np.nanstd(transformed_arr, axis = axis)\n",
    "    data_norm = (transformed_arr - mean ) / std\n",
    "    if data_norm.shape != data_array.shape:\n",
    "        raise (ValueError)\n",
    "    return data_norm"
   ]
  },
  {
   "cell_type": "code",
   "execution_count": 5,
   "id": "01ca42bf",
   "metadata": {},
   "outputs": [],
   "source": [
    "def log10_zerosnan(m):\n",
    "    '''\n",
    "    function which applies the numpy log10 to an array, keeping zeros set to 0\n",
    "    '''\n",
    "    o = np.empty_like(m)\n",
    "    o[:] = np.nan\n",
    "    return np.log10(m, out=o, where=(m!=0))"
   ]
  },
  {
   "cell_type": "code",
   "execution_count": 6,
   "id": "9213803c",
   "metadata": {},
   "outputs": [
    {
     "name": "stderr",
     "output_type": "stream",
     "text": [
      "/var/folders/86/dsskgdwx0rx3sqjjl0kpv4wm0000gn/T/ipykernel_32896/2011796476.py:7: RuntimeWarning: invalid value encountered in log10\n",
      "  return np.log10(m, out=o, where=(m!=0))\n"
     ]
    }
   ],
   "source": [
    "normalized_arr = normalize_array(data_dict['imagearray'],\n",
    "                                  transform = log10_zerosnan)\n",
    "normalized_arr[np.isnan(normalized_arr)] = 0\n",
    "X = normalized_arr\n",
    "# X = aggregate_yearly(data_dict)\n",
    "X_2d = X.reshape((-1,X.shape[0]))"
   ]
  },
  {
   "cell_type": "code",
   "execution_count": 7,
   "id": "58c9fbf2",
   "metadata": {},
   "outputs": [
    {
     "data": {
      "text/plain": [
       "(3000, 48, 59)"
      ]
     },
     "execution_count": 7,
     "metadata": {},
     "output_type": "execute_result"
    }
   ],
   "source": [
    "data_dict['imagearray'].shape"
   ]
  },
  {
   "cell_type": "markdown",
   "id": "2bd8814b",
   "metadata": {},
   "source": [
    "# Run k-means"
   ]
  },
  {
   "cell_type": "code",
   "execution_count": 8,
   "id": "a24861e6",
   "metadata": {},
   "outputs": [],
   "source": [
    "import numpy as np\n",
    "import pandas as pd\n",
    "import datetime as dt\n",
    "import matplotlib.pyplot as plt\n",
    "from sklearn.mixture import GaussianMixture\n",
    "from matplotlib.colors import ListedColormap\n",
    "import matplotlib.patches as mpatches"
   ]
  },
  {
   "cell_type": "code",
   "execution_count": 9,
   "id": "623ab53d",
   "metadata": {},
   "outputs": [],
   "source": [
    "def prepare_data(data_dict,method):\n",
    "    aggregation_window = 4\n",
    "    arr_t = data_dict['imagearray'].transpose(1,2,0)\n",
    "    spi_arr = compute_spi( arr_t, agg_window = aggregation_window )[:,:,aggregation_window:-aggregation_window]\n",
    "    w, h, d = original_shape = tuple(spi_arr.shape)\n",
    "    assert d == 3000 - (2* aggregation_window)\n",
    "    X = np.reshape(spi_arr, (w * h, d))\n",
    "    return X, (w,h,d)"
   ]
  },
  {
   "cell_type": "code",
   "execution_count": 10,
   "id": "9ab1531b",
   "metadata": {},
   "outputs": [],
   "source": [
    "def run_kmeans(X,k):\n",
    "    # declare \n",
    "    kmeans = KMeans(n_clusters=k, # Number of clusters to form\n",
    "            init='k-means++', # Method for initialization: \n",
    "              # ‘k-means++’ : selects initial cluster centroids using sampling based on an empirical probability distribution of the points’ contribution to the overall inertia. This technique speeds up convergence, and is theoretically proven to be -optimal. See the description of n_init for more details.\n",
    "            n_init=20, # Number of time the k-means algorithm will be run with different centroid seeds. Result is best output in terms of inertia\n",
    "            max_iter=1000, # Maximum number of iterations of the k-means algorithm for a single run.\n",
    "            tol=0.0001, #Relative tolerance with regards to Frobenius norm of the difference in the cluster centers of two consecutive iterations to declare convergence.\n",
    "            verbose=0, # Verbosity mode\n",
    "            random_state=0, \n",
    "            copy_x=True, \n",
    "            algorithm='full'# K-means algorithm to use. The classical EM-style algorithm is \"full\"\n",
    "            )\n",
    "        \n",
    "    # # fit algorithm\n",
    "    labels = kmeans.fit_predict(X)\n",
    "\n",
    "    return kmeans"
   ]
  },
  {
   "cell_type": "code",
   "execution_count": 11,
   "id": "eb92748b",
   "metadata": {},
   "outputs": [],
   "source": [
    "def filter_by_month(data_dict, months):\n",
    "    '''\n",
    "    \n",
    "    filters data dict by month\n",
    "    \n",
    "    Parameters\n",
    "    ----------\n",
    "    data_dict : data dict created by return_data\n",
    "\n",
    "    months : array type\n",
    "        months to include in analysis\n",
    "\n",
    "    Returns\n",
    "    -------\n",
    "    updated_data_dict:\n",
    "        data dict with only selected months' data\n",
    "\n",
    "    '''\n",
    "    ymp = np.array(data_dict['ymp'])[:,1].astype(int)\n",
    "    selected_months = np.isin(ymp, months)\n",
    "    updated_data_dict = {}\n",
    "    updated_data_dict['latitude'] = data_dict['latitude']\n",
    "    updated_data_dict['longitude'] = data_dict['longitude']\n",
    "    updated_data_dict['imagearray'] = data_dict['imagearray'][selected_months,:,:]\n",
    "    updated_data_dict['ymp'] = np.array(data_dict['ymp'])[selected_months]\n",
    "    updated_data_dict['filenames'] = np.array(data_dict['filenames'])[selected_months]\n",
    "    \n",
    "    return updated_data_dict"
   ]
  },
  {
   "cell_type": "code",
   "execution_count": 12,
   "id": "25ab430f",
   "metadata": {
    "scrolled": true
   },
   "outputs": [
    {
     "ename": "NameError",
     "evalue": "name 'compute_spi' is not defined",
     "output_type": "error",
     "traceback": [
      "\u001b[0;31m---------------------------------------------------------------------------\u001b[0m",
      "\u001b[0;31mNameError\u001b[0m                                 Traceback (most recent call last)",
      "Input \u001b[0;32mIn [12]\u001b[0m, in \u001b[0;36m<cell line: 17>\u001b[0;34m()\u001b[0m\n\u001b[1;32m     14\u001b[0m select_months \u001b[38;5;241m=\u001b[39m [\u001b[38;5;241m2\u001b[39m,\u001b[38;5;241m3\u001b[39m,\u001b[38;5;241m4\u001b[39m,\u001b[38;5;241m5\u001b[39m,\u001b[38;5;241m6\u001b[39m,\u001b[38;5;241m7\u001b[39m,\u001b[38;5;241m8\u001b[39m,\u001b[38;5;241m9\u001b[39m] \u001b[38;5;66;03m#Feb to Sept\u001b[39;00m\n\u001b[1;32m     15\u001b[0m data_dict \u001b[38;5;241m=\u001b[39m filter_by_month(data_dict, select_months)\n\u001b[0;32m---> 17\u001b[0m X, shape_tuple \u001b[38;5;241m=\u001b[39m \u001b[43mprepare_data\u001b[49m\u001b[43m(\u001b[49m\u001b[43mdata_dict\u001b[49m\u001b[43m,\u001b[49m\u001b[43mmethod\u001b[49m\u001b[43m)\u001b[49m\n\u001b[1;32m     18\u001b[0m w,h,d \u001b[38;5;241m=\u001b[39m shape_tuple\n\u001b[1;32m     19\u001b[0m kmeans \u001b[38;5;241m=\u001b[39m run_kmeans(X,k)\n",
      "Input \u001b[0;32mIn [9]\u001b[0m, in \u001b[0;36mprepare_data\u001b[0;34m(data_dict, method)\u001b[0m\n\u001b[1;32m      2\u001b[0m aggregation_window \u001b[38;5;241m=\u001b[39m \u001b[38;5;241m4\u001b[39m\n\u001b[1;32m      3\u001b[0m arr_t \u001b[38;5;241m=\u001b[39m data_dict[\u001b[38;5;124m'\u001b[39m\u001b[38;5;124mimagearray\u001b[39m\u001b[38;5;124m'\u001b[39m]\u001b[38;5;241m.\u001b[39mtranspose(\u001b[38;5;241m1\u001b[39m,\u001b[38;5;241m2\u001b[39m,\u001b[38;5;241m0\u001b[39m)\n\u001b[0;32m----> 4\u001b[0m spi_arr \u001b[38;5;241m=\u001b[39m \u001b[43mcompute_spi\u001b[49m( arr_t, agg_window \u001b[38;5;241m=\u001b[39m aggregation_window )[:,:,aggregation_window:\u001b[38;5;241m-\u001b[39maggregation_window]\n\u001b[1;32m      5\u001b[0m w, h, d \u001b[38;5;241m=\u001b[39m original_shape \u001b[38;5;241m=\u001b[39m \u001b[38;5;28mtuple\u001b[39m(spi_arr\u001b[38;5;241m.\u001b[39mshape)\n\u001b[1;32m      6\u001b[0m \u001b[38;5;28;01massert\u001b[39;00m d \u001b[38;5;241m==\u001b[39m \u001b[38;5;241m3000\u001b[39m \u001b[38;5;241m-\u001b[39m (\u001b[38;5;241m2\u001b[39m\u001b[38;5;241m*\u001b[39m aggregation_window)\n",
      "\u001b[0;31mNameError\u001b[0m: name 'compute_spi' is not defined"
     ]
    }
   ],
   "source": [
    "from sklearn.cluster import KMeans\n",
    "from sklearn.decomposition import PCA\n",
    "import matplotlib.pyplot as plt\n",
    "\n",
    "k = 4\n",
    "test = 'spi'\n",
    "\n",
    "method = 'customdatadict'\n",
    "spi_window = 4\n",
    "#data_dict = return_data(mode = 'spi', spi_window = spi_window)\n",
    "for key in ['imagearray', 'filenames', 'ymp']:\n",
    "    data_dict[key] = data_dict[key][spi_window:-spi_window]\n",
    "    \n",
    "select_months = [2,3,4,5,6,7,8,9] #Feb to Sept\n",
    "data_dict = filter_by_month(data_dict, select_months)\n",
    "\n",
    "X, shape_tuple = prepare_data(data_dict,method)\n",
    "w,h,d = shape_tuple\n",
    "kmeans = run_kmeans(X,k)\n",
    "#gmm = run_gmm(X, k) \n",
    "\n",
    "# colormap\n",
    "cmap = ListedColormap(['tab:red','tab:blue','tab:green','tab:orange'])\n",
    "\n",
    "def plot_map(cmap = cmap):\n",
    "    def get_extent(data_dict):\n",
    "        x_min, x_max = data_dict['longitude'].min(), data_dict['longitude'].max()\n",
    "        y_min, y_max = data_dict['latitude'].min(), data_dict['latitude'].max()\n",
    "        extent = [x_min , x_max, y_min , y_max]\n",
    "        return extent\n",
    "    labels = kmeans.labels_\n",
    "    #labels = gmm.predict(X)\n",
    "    im = plt.imshow(labels.reshape(w,h) ,\n",
    "                cmap= cmap, \n",
    "                interpolation='None', extent = get_extent(data_dict))\n",
    "    # get the colors of the values, according to the \n",
    "    # colormap used by imshow\n",
    "    values = np.unique(labels)\n",
    "    colors = [ im.cmap(im.norm(value)) for value in values]\n",
    "    # create a patch (proxy artist) for every color \n",
    "    patches = [ mpatches.Patch(color=colors[i], label=\"Cluster {l}\".format(l=values[i] +1) ) for i in range(len(values)) ]\n",
    "    # put those patched as legend-handles into the legend\n",
    "    plt.legend(handles=patches, bbox_to_anchor=(1.05, 1), loc=2, borderaxespad=0. )\n",
    "    \n",
    "    plt.show()\n",
    "\n",
    "plot_map()"
   ]
  },
  {
   "cell_type": "markdown",
   "id": "d696caa5",
   "metadata": {},
   "source": [
    "# run X means"
   ]
  },
  {
   "cell_type": "code",
   "execution_count": 13,
   "id": "03c69909",
   "metadata": {},
   "outputs": [
    {
     "ename": "ValueError",
     "evalue": "could not broadcast input array from shape (59,3000) into shape (3000,)",
     "output_type": "error",
     "traceback": [
      "\u001b[0;31m---------------------------------------------------------------------------\u001b[0m",
      "\u001b[0;31mValueError\u001b[0m                                Traceback (most recent call last)",
      "Input \u001b[0;32mIn [13]\u001b[0m, in \u001b[0;36m<cell line: 2>\u001b[0;34m()\u001b[0m\n\u001b[1;32m      1\u001b[0m amount_initial_centers \u001b[38;5;241m=\u001b[39m \u001b[38;5;241m2\u001b[39m\n\u001b[0;32m----> 2\u001b[0m initial_centers \u001b[38;5;241m=\u001b[39m \u001b[43mkmeans_plusplus_initializer\u001b[49m\u001b[43m(\u001b[49m\u001b[43mX\u001b[49m\u001b[43m,\u001b[49m\u001b[43m \u001b[49m\u001b[43mamount_initial_centers\u001b[49m\u001b[43m)\u001b[49m\u001b[38;5;241;43m.\u001b[39;49m\u001b[43minitialize\u001b[49m\u001b[43m(\u001b[49m\u001b[43m)\u001b[49m\n\u001b[1;32m      4\u001b[0m \u001b[38;5;66;03m# Create instance of X-Means algorithm. The algorithm will start analysis from 2 clusters, the maximum\u001b[39;00m\n\u001b[1;32m      5\u001b[0m \u001b[38;5;66;03m# number of clusters that can be allocated is 20.\u001b[39;00m\n\u001b[1;32m      6\u001b[0m xmeans_instance \u001b[38;5;241m=\u001b[39m xmeans(X, initial_centers, tolerance\u001b[38;5;241m=\u001b[39m\u001b[38;5;241m0.001\u001b[39m)\n",
      "File \u001b[0;32m~/opt/anaconda3/lib/python3.9/site-packages/pyclustering/cluster/center_initializer.py:352\u001b[0m, in \u001b[0;36mkmeans_plusplus_initializer.initialize\u001b[0;34m(self, **kwargs)\u001b[0m\n\u001b[1;32m    350\u001b[0m \u001b[38;5;66;03m# For each next center\u001b[39;00m\n\u001b[1;32m    351\u001b[0m \u001b[38;5;28;01mfor\u001b[39;00m _ \u001b[38;5;129;01min\u001b[39;00m \u001b[38;5;28mrange\u001b[39m(\u001b[38;5;241m1\u001b[39m, \u001b[38;5;28mself\u001b[39m\u001b[38;5;241m.\u001b[39m__amount):\n\u001b[0;32m--> 352\u001b[0m     index_point \u001b[38;5;241m=\u001b[39m \u001b[38;5;28;43mself\u001b[39;49m\u001b[38;5;241;43m.\u001b[39;49m\u001b[43m__get_next_center\u001b[49m\u001b[43m(\u001b[49m\u001b[43mcenters\u001b[49m\u001b[43m)\u001b[49m\n\u001b[1;32m    353\u001b[0m     centers\u001b[38;5;241m.\u001b[39mappend(index_point)\n\u001b[1;32m    354\u001b[0m     \u001b[38;5;28mself\u001b[39m\u001b[38;5;241m.\u001b[39m__free_indexes\u001b[38;5;241m.\u001b[39mremove(index_point)\n",
      "File \u001b[0;32m~/opt/anaconda3/lib/python3.9/site-packages/pyclustering/cluster/center_initializer.py:251\u001b[0m, in \u001b[0;36mkmeans_plusplus_initializer.__get_next_center\u001b[0;34m(self, centers)\u001b[0m\n\u001b[1;32m    240\u001b[0m \u001b[38;5;28;01mdef\u001b[39;00m \u001b[38;5;21m__get_next_center\u001b[39m(\u001b[38;5;28mself\u001b[39m, centers):\n\u001b[1;32m    241\u001b[0m     \u001b[38;5;124;03m\"\"\"!\u001b[39;00m\n\u001b[1;32m    242\u001b[0m \u001b[38;5;124;03m    @brief Calculates the next center for the data.\u001b[39;00m\n\u001b[1;32m    243\u001b[0m \n\u001b[0;32m   (...)\u001b[0m\n\u001b[1;32m    248\u001b[0m \n\u001b[1;32m    249\u001b[0m \u001b[38;5;124;03m    \"\"\"\u001b[39;00m\n\u001b[0;32m--> 251\u001b[0m     distances \u001b[38;5;241m=\u001b[39m \u001b[38;5;28;43mself\u001b[39;49m\u001b[38;5;241;43m.\u001b[39;49m\u001b[43m__calculate_shortest_distances\u001b[49m\u001b[43m(\u001b[49m\u001b[38;5;28;43mself\u001b[39;49m\u001b[38;5;241;43m.\u001b[39;49m\u001b[43m__data\u001b[49m\u001b[43m,\u001b[49m\u001b[43m \u001b[49m\u001b[43mcenters\u001b[49m\u001b[43m)\u001b[49m\n\u001b[1;32m    253\u001b[0m     \u001b[38;5;28;01mif\u001b[39;00m \u001b[38;5;28mself\u001b[39m\u001b[38;5;241m.\u001b[39m__candidates \u001b[38;5;241m==\u001b[39m kmeans_plusplus_initializer\u001b[38;5;241m.\u001b[39mFARTHEST_CENTER_CANDIDATE:\n\u001b[1;32m    254\u001b[0m         \u001b[38;5;28;01mfor\u001b[39;00m index_point \u001b[38;5;129;01min\u001b[39;00m centers:\n",
      "File \u001b[0;32m~/opt/anaconda3/lib/python3.9/site-packages/pyclustering/cluster/center_initializer.py:231\u001b[0m, in \u001b[0;36mkmeans_plusplus_initializer.__calculate_shortest_distances\u001b[0;34m(self, data, centers)\u001b[0m\n\u001b[1;32m    228\u001b[0m \u001b[38;5;28;01mfor\u001b[39;00m index_center \u001b[38;5;129;01min\u001b[39;00m \u001b[38;5;28mrange\u001b[39m(\u001b[38;5;28mlen\u001b[39m(centers)):\n\u001b[1;32m    229\u001b[0m     center \u001b[38;5;241m=\u001b[39m data[centers[index_center]]\n\u001b[0;32m--> 231\u001b[0m     dataset_differences[index_center] \u001b[38;5;241m=\u001b[39m numpy\u001b[38;5;241m.\u001b[39msum(numpy\u001b[38;5;241m.\u001b[39msquare(data \u001b[38;5;241m-\u001b[39m center), axis\u001b[38;5;241m=\u001b[39m\u001b[38;5;241m1\u001b[39m)\u001b[38;5;241m.\u001b[39mT\n\u001b[1;32m    233\u001b[0m \u001b[38;5;28;01mwith\u001b[39;00m warnings\u001b[38;5;241m.\u001b[39mcatch_warnings():\n\u001b[1;32m    234\u001b[0m     numpy\u001b[38;5;241m.\u001b[39mwarnings\u001b[38;5;241m.\u001b[39mfilterwarnings(\u001b[38;5;124m'\u001b[39m\u001b[38;5;124mignore\u001b[39m\u001b[38;5;124m'\u001b[39m, \u001b[38;5;124mr\u001b[39m\u001b[38;5;124m'\u001b[39m\u001b[38;5;124mAll-NaN (slice|axis) encountered\u001b[39m\u001b[38;5;124m'\u001b[39m)\n",
      "\u001b[0;31mValueError\u001b[0m: could not broadcast input array from shape (59,3000) into shape (3000,)"
     ]
    }
   ],
   "source": [
    "amount_initial_centers = 2\n",
    "initial_centers = kmeans_plusplus_initializer(X, amount_initial_centers).initialize()\n",
    "\n",
    "# Create instance of X-Means algorithm. The algorithm will start analysis from 2 clusters, the maximum\n",
    "# number of clusters that can be allocated is 20.\n",
    "xmeans_instance = xmeans(X, initial_centers, tolerance=0.001)\n",
    "xmeans_instance.process()\n",
    "\n",
    "# Extract clustering results: clusters and their centers\n",
    "clusters = xmeans_instance.get_clusters()\n",
    "centers = xmeans_instance.get_centers()"
   ]
  },
  {
   "cell_type": "code",
   "execution_count": null,
   "id": "b4ae8367",
   "metadata": {},
   "outputs": [],
   "source": []
  },
  {
   "cell_type": "code",
   "execution_count": null,
   "id": "654f6fb6",
   "metadata": {},
   "outputs": [],
   "source": [
    "def plot_map2(cmap = cmap):\n",
    "    def get_extent(data_dict):\n",
    "        x_min, x_max = data_dict['longitude'].min(), data_dict['longitude'].max()\n",
    "        y_min, y_max = data_dict['latitude'].min(), data_dict['latitude'].max()\n",
    "        extent = [x_min , x_max, y_min , y_max]\n",
    "        return extent\n",
    "    labels = xmeans_labels\n",
    "    #labels = gmm.predict(X)\n",
    "    im = plt.imshow(labels.reshape(w,h) , \n",
    "                interpolation='None', extent = get_extent(data_dict))\n",
    "    # get the colors of the values, according to the \n",
    "    # colormap used by imshow\n",
    "    values = np.unique(labels)\n",
    "    colors = [ im.cmap(im.norm(value)) for value in values]\n",
    "    # create a patch (proxy artist) for every color \n",
    "    patches = [ mpatches.Patch(color=colors[i], label=\"Cluster {l}\".format(l=values[i] +1) ) for i in range(len(values)) ]\n",
    "    # put those patched as legend-handles into the legend\n",
    "    plt.legend(handles=patches, bbox_to_anchor=(1.05, 1), loc=2, borderaxespad=0. )\n",
    "    \n",
    "    plt.show()"
   ]
  },
  {
   "cell_type": "code",
   "execution_count": null,
   "id": "dfe84efc",
   "metadata": {},
   "outputs": [],
   "source": [
    "plot_map2()"
   ]
  },
  {
   "cell_type": "code",
   "execution_count": null,
   "id": "ac9f7bd8",
   "metadata": {},
   "outputs": [],
   "source": [
    "from pyclustering.cluster.xmeans import splitting_type\n",
    "\n",
    "# see criteria at each split\n",
    "amount_initial_centers = 2\n",
    "initial_centers = kmeans_plusplus_initializer(X, amount_initial_centers).initialize()\n",
    "\n",
    "# Create instance of X-Means algorithm. The algorithm will start analysis from 2 clusters, the maximum\n",
    "# number of clusters that can be allocated is 20.\n",
    "xmeans_instance = xmeans(X, initial_centers, 1000, tolerance = 0.001, splitting_type=splitting_type.MINIMUM_NOISELESS_DESCRIPTION_LENGTH)\n",
    "xmeans_instance.process()\n",
    "\n",
    "# Extract clustering results: clusters and their centers\n",
    "clusters = xmeans_instance.get_clusters()\n",
    "centers = xmeans_instance.get_centers()\n",
    "xmeans_labels = np.zeros(len(X))\n",
    "for i in range(len(clusters)):\n",
    "    for idx in clusters[i]:\n",
    "        xmeans_labels[idx] = i\n",
    "plot_map2()"
   ]
  },
  {
   "cell_type": "code",
   "execution_count": null,
   "id": "f476a917",
   "metadata": {},
   "outputs": [],
   "source": [
    "amount_initial_centers = 2\n",
    "initial_centers = kmeans_plusplus_initializer(X, amount_initial_centers).initialize()\n",
    "\n",
    "# Create instance of X-Means algorithm. The algorithm will start analysis from 2 clusters, the maximum\n",
    "# number of clusters that can be allocated is 20.\n",
    "xmeans_instance = xmeans(X, initial_centers, 2)\n",
    "xmeans_instance.process()\n",
    "\n",
    "# Extract clustering results: clusters and their centers\n",
    "clusters = xmeans_instance.get_clusters()\n",
    "centers = xmeans_instance.get_centers()\n",
    "xmeans_labels = np.zeros(len(X))\n",
    "for i in range(len(clusters)):\n",
    "    for idx in clusters[i]:\n",
    "        xmeans_labels[idx] = i\n",
    "plot_map2()"
   ]
  },
  {
   "cell_type": "markdown",
   "id": "b9c5a62e",
   "metadata": {},
   "source": [
    "# Run PCA"
   ]
  },
  {
   "cell_type": "code",
   "execution_count": null,
   "id": "59153e8a",
   "metadata": {},
   "outputs": [],
   "source": [
    "# component loading , 1 map per\n",
    "# 1 map, 2-3 components\n",
    "from sklearn.decomposition import PCA\n",
    "pca = PCA(n_components=3).fit_transform(X)\n",
    "pca"
   ]
  },
  {
   "cell_type": "code",
   "execution_count": null,
   "id": "a34c3a9f",
   "metadata": {},
   "outputs": [],
   "source": [
    "len(xmeans_labels)"
   ]
  },
  {
   "cell_type": "code",
   "execution_count": null,
   "id": "79357bd1",
   "metadata": {},
   "outputs": [],
   "source": [
    "def plot_map3(cmap = cmap):\n",
    "    def get_extent(data_dict):\n",
    "        x_min, x_max = data_dict['longitude'].min(), data_dict['longitude'].max()\n",
    "        y_min, y_max = data_dict['latitude'].min(), data_dict['latitude'].max()\n",
    "        extent = [x_min , x_max, y_min , y_max]\n",
    "        return extent\n",
    "    colors = [\"Blues\", \"Greys\", \"Purples\"]\n",
    "    for i in range(3):\n",
    "        labels = pca[:, i]\n",
    "        #labels = gmm.predict(X)\n",
    "        im = plt.imshow(labels.reshape(w,h),\n",
    "                    cmap= colors[i], \n",
    "                    interpolation='None', extent = get_extent(data_dict))\n",
    "        # get the colors of the values, according to the \n",
    "        # colormap used by imshow\n",
    "        values = np.unique(labels)\n",
    "        #colors = [ im.cmap(im.norm(value)) for value in values]\n",
    "        # create a patch (proxy artist) for every color \n",
    "        #patches = [ mpatches.Patch(color=colors[i], label=\"Cluster {l}\".format(l=values[i] +1) ) for i in range(len(values)) ]\n",
    "        # put those patched as legend-handles into the legend\n",
    "        #plt.legend(handles=patches, bbox_to_anchor=(1.05, 1), loc=2, borderaxespad=0. )\n",
    "\n",
    "        plt.show()"
   ]
  },
  {
   "cell_type": "code",
   "execution_count": null,
   "id": "80b525b5",
   "metadata": {},
   "outputs": [],
   "source": [
    "pca"
   ]
  },
  {
   "cell_type": "code",
   "execution_count": null,
   "id": "8d2f2eae",
   "metadata": {},
   "outputs": [],
   "source": [
    "plot_map3()"
   ]
  },
  {
   "cell_type": "code",
   "execution_count": null,
   "id": "a51a21f3",
   "metadata": {},
   "outputs": [],
   "source": [
    "pca.explained_variance_"
   ]
  },
  {
   "cell_type": "markdown",
   "id": "07dc1a6b",
   "metadata": {},
   "source": [
    "# Run G-Means"
   ]
  },
  {
   "cell_type": "code",
   "execution_count": null,
   "id": "2c4504ad",
   "metadata": {},
   "outputs": [],
   "source": [
    "from pyclustering.cluster import cluster_visualizer\n",
    "from pyclustering.cluster.gmeans import gmeans\n",
    "\n",
    "gmeans_instance = gmeans(X, repeat=5, tolerance=100000000000000).process()\n",
    "# Extract clustering results: clusters and their centers\n",
    "clusters = gmeans_instance.get_clusters()\n",
    "centers = gmeans_instance.get_centers()\n",
    "gmeans_labels = np.zeros(len(X))\n",
    "for i in range(len(clusters)):\n",
    "    for idx in clusters[i]:\n",
    "        gmeans_labels[idx] = i\n",
    "        \n",
    "def get_extent(data_dict):\n",
    "    x_min, x_max = data_dict['longitude'].min(), data_dict['longitude'].max()\n",
    "    y_min, y_max = data_dict['latitude'].min(), data_dict['latitude'].max()\n",
    "    extent = [x_min , x_max, y_min , y_max]\n",
    "    return extent\n",
    "labels = gmeans_labels\n",
    "#labels = gmm.predict(X)\n",
    "im = plt.imshow(labels.reshape(w,h) , \n",
    "            interpolation='None', extent = get_extent(data_dict))\n",
    "# get the colors of the values, according to the \n",
    "# colormap used by imshow\n",
    "values = np.unique(labels)\n",
    "colors = [ im.cmap(im.norm(value)) for value in values]\n",
    "# create a patch (proxy artist) for every color \n",
    "patches = [ mpatches.Patch(color=colors[i], label=\"Cluster {l}\".format(l=values[i] +1) ) for i in range(len(values)) ]\n",
    "# put those patched as legend-handles into the legend\n",
    "plt.legend(handles=patches, bbox_to_anchor=(1.05, 1), loc=2, borderaxespad=0. )\n",
    "\n",
    "plt.show()"
   ]
  },
  {
   "cell_type": "code",
   "execution_count": null,
   "id": "44326d91",
   "metadata": {},
   "outputs": [],
   "source": [
    "from pyclustering.cluster import cluster_visualizer\n",
    "from pyclustering.cluster.gmeans import gmeans\n",
    "\n",
    "gmeans_instance = gmeans(X, repeat=5, tolerance=100000000000000).process()\n",
    "# Extract clustering results: clusters and their centers\n",
    "clusters = gmeans_instance.get_clusters()\n",
    "centers = gmeans_instance.get_centers()\n",
    "gmeans_labels = np.zeros(len(X))\n",
    "for i in range(len(clusters)):\n",
    "    for idx in clusters[i]:\n",
    "        gmeans_labels[idx] = i\n",
    "        \n",
    "def get_extent(data_dict):\n",
    "    x_min, x_max = data_dict['longitude'].min(), data_dict['longitude'].max()\n",
    "    y_min, y_max = data_dict['latitude'].min(), data_dict['latitude'].max()\n",
    "    extent = [x_min , x_max, y_min , y_max]\n",
    "    return extent\n",
    "labels = gmeans_labels\n",
    "#labels = gmm.predict(X)\n",
    "im = plt.imshow(labels.reshape(w,h) , \n",
    "            interpolation='None', extent = get_extent(data_dict))\n",
    "# get the colors of the values, according to the \n",
    "# colormap used by imshow\n",
    "values = np.unique(labels)\n",
    "colors = [ im.cmap(im.norm(value)) for value in values]\n",
    "# create a patch (proxy artist) for every color \n",
    "patches = [ mpatches.Patch(color=colors[i], label=\"Cluster {l}\".format(l=values[i] +1) ) for i in range(len(values)) ]\n",
    "# put those patched as legend-handles into the legend\n",
    "plt.legend(handles=patches, bbox_to_anchor=(1.05, 1), loc=2, borderaxespad=0. )\n",
    "\n",
    "plt.show()"
   ]
  },
  {
   "cell_type": "code",
   "execution_count": null,
   "id": "a6bc932b",
   "metadata": {},
   "outputs": [],
   "source": [
    "plot = plt.scatter(Xt[:,0], Xt[:,1], c=y)\n",
    "plt.legend(handles=plot.legend_elements()[0], labels=list(digitsdata['target_names']))\n",
    "plt.show()"
   ]
  },
  {
   "cell_type": "code",
   "execution_count": null,
   "id": "8769704e",
   "metadata": {},
   "outputs": [],
   "source": [
    "def hex_to_RGB(hex_str):\n",
    "    \"\"\" #FFFFFF -> [255,255,255]\"\"\"\n",
    "    #Pass 16 to the integer function for change of base\n",
    "    return [int(hex_str[i:i+2], 16) for i in range(1,6,2)]\n",
    "\n",
    "def get_color_gradient(c1, c2, n):\n",
    "    \"\"\"\n",
    "    Given two hex colors, returns a color gradient\n",
    "    with n colors.\n",
    "    \"\"\"\n",
    "    assert n > 1\n",
    "    c1_rgb = np.array(hex_to_RGB(c1))/255\n",
    "    c2_rgb = np.array(hex_to_RGB(c2))/255\n",
    "    mix_pcts = [x/(n-1) for x in range(n)]\n",
    "    rgb_colors = [((1-mix)*c1_rgb + (mix*c2_rgb)) for mix in mix_pcts]\n",
    "    return [\"#\" + \"\".join([format(int(round(val*255)), \"02x\") for val in item]) for item in rgb_colors]"
   ]
  },
  {
   "cell_type": "code",
   "execution_count": null,
   "id": "71d16c66",
   "metadata": {},
   "outputs": [],
   "source": [
    "# g means"
   ]
  }
 ],
 "metadata": {
  "kernelspec": {
   "display_name": "Python 3 (ipykernel)",
   "language": "python",
   "name": "python3"
  },
  "language_info": {
   "codemirror_mode": {
    "name": "ipython",
    "version": 3
   },
   "file_extension": ".py",
   "mimetype": "text/x-python",
   "name": "python",
   "nbconvert_exporter": "python",
   "pygments_lexer": "ipython3",
   "version": "3.9.12"
  }
 },
 "nbformat": 4,
 "nbformat_minor": 5
}
