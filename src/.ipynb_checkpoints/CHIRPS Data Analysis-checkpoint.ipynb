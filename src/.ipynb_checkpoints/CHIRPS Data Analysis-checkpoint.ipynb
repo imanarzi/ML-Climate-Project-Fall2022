{
 "cells": [
  {
   "cell_type": "code",
   "execution_count": 1,
   "id": "8cc419a7",
   "metadata": {
    "scrolled": true
   },
   "outputs": [
    {
     "name": "stdout",
     "output_type": "stream",
     "text": [
      "Requirement already satisfied: pyclustering in /Users/imananwarzai/opt/anaconda3/lib/python3.9/site-packages (0.10.1.2)\n",
      "Requirement already satisfied: scipy>=1.1.0 in /Users/imananwarzai/opt/anaconda3/lib/python3.9/site-packages (from pyclustering) (1.7.3)\n",
      "Requirement already satisfied: Pillow>=5.2.0 in /Users/imananwarzai/opt/anaconda3/lib/python3.9/site-packages (from pyclustering) (9.0.1)\n",
      "Requirement already satisfied: matplotlib>=3.0.0 in /Users/imananwarzai/opt/anaconda3/lib/python3.9/site-packages (from pyclustering) (3.5.1)\n",
      "Requirement already satisfied: numpy>=1.15.2 in /Users/imananwarzai/opt/anaconda3/lib/python3.9/site-packages (from pyclustering) (1.21.5)\n",
      "Requirement already satisfied: kiwisolver>=1.0.1 in /Users/imananwarzai/opt/anaconda3/lib/python3.9/site-packages (from matplotlib>=3.0.0->pyclustering) (1.3.2)\n",
      "Requirement already satisfied: pyparsing>=2.2.1 in /Users/imananwarzai/opt/anaconda3/lib/python3.9/site-packages (from matplotlib>=3.0.0->pyclustering) (3.0.4)\n",
      "Requirement already satisfied: python-dateutil>=2.7 in /Users/imananwarzai/opt/anaconda3/lib/python3.9/site-packages (from matplotlib>=3.0.0->pyclustering) (2.8.2)\n",
      "Requirement already satisfied: cycler>=0.10 in /Users/imananwarzai/opt/anaconda3/lib/python3.9/site-packages (from matplotlib>=3.0.0->pyclustering) (0.11.0)\n",
      "Requirement already satisfied: fonttools>=4.22.0 in /Users/imananwarzai/opt/anaconda3/lib/python3.9/site-packages (from matplotlib>=3.0.0->pyclustering) (4.25.0)\n",
      "Requirement already satisfied: packaging>=20.0 in /Users/imananwarzai/opt/anaconda3/lib/python3.9/site-packages (from matplotlib>=3.0.0->pyclustering) (21.3)\n",
      "Requirement already satisfied: six>=1.5 in /Users/imananwarzai/opt/anaconda3/lib/python3.9/site-packages (from python-dateutil>=2.7->matplotlib>=3.0.0->pyclustering) (1.16.0)\n"
     ]
    }
   ],
   "source": [
    "!pip install pyclustering"
   ]
  },
  {
   "cell_type": "code",
   "execution_count": 2,
   "id": "ce7e3e4b",
   "metadata": {},
   "outputs": [
    {
     "data": {
      "image/png": "[encoded data removed]",
      "text/plain": [
       "<Figure size 432x288 with 1 Axes>"
      ]
     },
     "metadata": {
      "needs_background": "light"
     },
     "output_type": "display_data"
    },
    {
     "data": {
      "image/png": "[encoded data removed]",
      "text/plain": [
       "<Figure size 432x288 with 1 Axes>"
      ]
     },
     "execution_count": 2,
     "metadata": {},
     "output_type": "execute_result"
    }
   ],
   "source": [
    "from pyclustering.cluster import cluster_visualizer\n",
    "from pyclustering.cluster.xmeans import xmeans\n",
    "from pyclustering.cluster.center_initializer import kmeans_plusplus_initializer\n",
    "from pyclustering.utils import read_sample\n",
    "from pyclustering.samples.definitions import SIMPLE_SAMPLES\n",
    "\n",
    "# Read sample 'simple3' from file.\n",
    "sample = read_sample(SIMPLE_SAMPLES.SAMPLE_SIMPLE3)\n",
    "\n",
    "# Prepare initial centers - amount of initial centers defines amount of clusters from which X-Means will\n",
    "# start analysis.\n",
    "amount_initial_centers = 2\n",
    "initial_centers = kmeans_plusplus_initializer(sample, amount_initial_centers).initialize()\n",
    "\n",
    "# Create instance of X-Means algorithm. The algorithm will start analysis from 2 clusters, the maximum\n",
    "# number of clusters that can be allocated is 20.\n",
    "xmeans_instance = xmeans(sample, initial_centers, 20)\n",
    "xmeans_instance.process()\n",
    "\n",
    "# Extract clustering results: clusters and their centers\n",
    "clusters = xmeans_instance.get_clusters()\n",
    "centers = xmeans_instance.get_centers()\n",
    "\n",
    "# Visualize clustering results\n",
    "visualizer = cluster_visualizer()\n",
    "visualizer.append_clusters(clusters, sample)\n",
    "visualizer.append_cluster(centers, None, marker='*', markersize=10)\n",
    "visualizer.show()"
   ]
  },
  {
   "cell_type": "markdown",
   "id": "8234cf41",
   "metadata": {},
   "source": [
    "# Get pentad rainfall data"
   ]
  },
  {
   "cell_type": "code",
   "execution_count": 52,
   "id": "23116e05",
   "metadata": {},
   "outputs": [],
   "source": [
    "import numpy as np\n",
    "import os\n",
    "\n",
    "path = 'data/'\n",
    "image_folder = 'CHIRPS_SPI_4pentads/'\n",
    "lon = np.genfromtxt( path + \"AOI_longitude.csv\", delimiter=',')\n",
    "lat = np.genfromtxt( path + \"AOI_latitude.csv\", delimiter=',')\n",
    "    \n",
    "files_raw = np.array(os.listdir(path + image_folder))\n",
    "if '.DS_Store' in files_raw:    \n",
    "    files = np.delete( files_raw, np.where(files_raw == '.DS_Store')[0][0] )\n",
    "else:\n",
    "    files = files_raw\n",
    "files = np.sort(files)\n",
    "ymp = [ (f.split('_')[1][1:5],  f.split('_')[1].split('m')[1].split('p')[0] ,\n",
    "            f.split('_')[1].split('m')[1].split('p')[1])  for f in files]\n",
    "image_arr = np.array([ np.genfromtxt( path + image_folder + f, delimiter=',') for f in files])\n",
    "# image_arr_reshaped = np.transpose(image_arr, (1,2,0))\n",
    "\n",
    "data_dict = {'latitude': lat,\n",
    "        'longitude':lon,\n",
    "        'imagearray': image_arr,\n",
    "        'filenames':files,\n",
    "        'ymp': ymp}"
   ]
  },
  {
   "cell_type": "code",
   "execution_count": 53,
   "id": "372ed52e",
   "metadata": {},
   "outputs": [],
   "source": [
    "def normalize_array(data_array, transform = None, axis = 0):\n",
    "    '''\n",
    "    Parameters\n",
    "    ----------\n",
    "    data_array : 3-d numpy array \n",
    "        specifically a stack of rasters with time, lon (x), lat(y)\n",
    "        data to get normalized\n",
    "    \n",
    "    transform: function(ndarray), (optional) :\n",
    "        optional transformation function to apply across the data before transofrmation\n",
    "        i.e. np.log10()\n",
    "        \n",
    "    axis: int or None, (optional) - default 0:\n",
    "        aggregate mean and standard deviation over this axis\n",
    "        select 0 to do a pixel-wise normalization\n",
    "        select None to do a dataset-wide normalization\n",
    "        \n",
    "\n",
    "    Returns\n",
    "    -------\n",
    "    data_norm: a normalized version of that 3-d array, where every \"image\" in the time dimension is \n",
    "    normalized to \n",
    "    '''\n",
    "    \n",
    "    if transform != None:\n",
    "        transformed_arr = transform(data_array)\n",
    "    else:\n",
    "        transformed_arr = data_array\n",
    "    mean = np.nanmean(transformed_arr, axis = axis)\n",
    "    std = np.nanstd(transformed_arr, axis = axis)\n",
    "    data_norm = (transformed_arr - mean ) / std\n",
    "    if data_norm.shape != data_array.shape:\n",
    "        raise (ValueError)\n",
    "    return data_norm"
   ]
  },
  {
   "cell_type": "code",
   "execution_count": 54,
   "id": "4d006993",
   "metadata": {},
   "outputs": [],
   "source": [
    "def log10_zerosnan(m):\n",
    "    '''\n",
    "    function which applies the numpy log10 to an array, keeping zeros set to 0\n",
    "    '''\n",
    "    o = np.empty_like(m)\n",
    "    o[:] = np.nan\n",
    "    return np.log10(m, out=o, where=(m!=0))"
   ]
  },
  {
   "cell_type": "code",
   "execution_count": 55,
   "id": "5f9b7a19",
   "metadata": {},
   "outputs": [
    {
     "name": "stderr",
     "output_type": "stream",
     "text": [
      "/var/folders/86/dsskgdwx0rx3sqjjl0kpv4wm0000gn/T/ipykernel_38265/2011796476.py:7: RuntimeWarning: invalid value encountered in log10\n",
      "  return np.log10(m, out=o, where=(m!=0))\n"
     ]
    }
   ],
   "source": [
    "normalized_arr = normalize_array(data_dict['imagearray'],\n",
    "                                  transform = log10_zerosnan)\n",
    "normalized_arr[np.isnan(normalized_arr)] = 0\n",
    "X = normalized_arr\n",
    "# X = aggregate_yearly(data_dict)\n",
    "X_2d = X.reshape((-1,X.shape[0]))"
   ]
  },
  {
   "cell_type": "code",
   "execution_count": 61,
   "id": "3eec8f74",
   "metadata": {},
   "outputs": [
    {
     "data": {
      "text/plain": [
       "(3000, 48, 59)"
      ]
     },
     "execution_count": 61,
     "metadata": {},
     "output_type": "execute_result"
    }
   ],
   "source": [
    "data_dict['imagearray'].shape"
   ]
  },
  {
   "cell_type": "markdown",
   "id": "29c0fc2a",
   "metadata": {},
   "source": [
    "# Run k-means"
   ]
  },
  {
   "cell_type": "code",
   "execution_count": 73,
   "id": "82d4a1e1",
   "metadata": {},
   "outputs": [],
   "source": [
    "import numpy as np\n",
    "import pandas as pd\n",
    "import datetime as dt\n",
    "import matplotlib.pyplot as plt\n",
    "from sklearn.mixture import GaussianMixture\n",
    "from matplotlib.colors import ListedColormap\n",
    "import matplotlib.patches as mpatches"
   ]
  },
  {
   "cell_type": "code",
   "execution_count": 74,
   "id": "10be4e4b",
   "metadata": {},
   "outputs": [],
   "source": [
    "def prepare_data(data_dict,method):\n",
    "    aggregation_window = 4\n",
    "    arr_t = data_dict['imagearray'].transpose(1,2,0)\n",
    "    spi_arr = compute_spi( arr_t, agg_window = aggregation_window )[:,:,aggregation_window:-aggregation_window]\n",
    "    w, h, d = original_shape = tuple(spi_arr.shape)\n",
    "    assert d == 3000 - (2* aggregation_window)\n",
    "    X = np.reshape(spi_arr, (w * h, d))\n",
    "    return X, (w,h,d)"
   ]
  },
  {
   "cell_type": "code",
   "execution_count": 75,
   "id": "d228a508",
   "metadata": {},
   "outputs": [],
   "source": [
    "def run_kmeans(X,k):\n",
    "    # declare \n",
    "    kmeans = KMeans(n_clusters=k, # Number of clusters to form\n",
    "            init='k-means++', # Method for initialization: \n",
    "              # ‘k-means++’ : selects initial cluster centroids using sampling based on an empirical probability distribution of the points’ contribution to the overall inertia. This technique speeds up convergence, and is theoretically proven to be -optimal. See the description of n_init for more details.\n",
    "            n_init=20, # Number of time the k-means algorithm will be run with different centroid seeds. Result is best output in terms of inertia\n",
    "            max_iter=1000, # Maximum number of iterations of the k-means algorithm for a single run.\n",
    "            tol=0.0001, #Relative tolerance with regards to Frobenius norm of the difference in the cluster centers of two consecutive iterations to declare convergence.\n",
    "            verbose=0, # Verbosity mode\n",
    "            random_state=0, \n",
    "            copy_x=True, \n",
    "            algorithm='full'# K-means algorithm to use. The classical EM-style algorithm is \"full\"\n",
    "            )\n",
    "        \n",
    "    # # fit algorithm\n",
    "    labels = kmeans.fit_predict(X)\n",
    "\n",
    "    return kmeans"
   ]
  },
  {
   "cell_type": "code",
   "execution_count": 76,
   "id": "d1a46259",
   "metadata": {
    "scrolled": true
   },
   "outputs": [
    {
     "data": {
      "image/png": "[encoded data removed]",
      "text/plain": [
       "<Figure size 432x288 with 1 Axes>"
      ]
     },
     "metadata": {
      "needs_background": "light"
     },
     "output_type": "display_data"
    }
   ],
   "source": [
    "from sklearn.cluster import KMeans\n",
    "from sklearn.decomposition import PCA\n",
    "import matplotlib.pyplot as plt\n",
    "\n",
    "k = 4\n",
    "test = 'spi'\n",
    "\n",
    "method = 'customdatadict'\n",
    "spi_window = 4\n",
    "#data_dict = return_data(mode = 'spi', spi_window = spi_window)\n",
    "for key in ['imagearray', 'filenames', 'ymp']:\n",
    "    data_dict[key] = data_dict[key][spi_window:-spi_window]\n",
    "    \n",
    "#select_months = [2,3,4,5,6,7,8,9] #Feb to Sept\n",
    "#data_dict = filter_by_month(data_dict, select_months)\n",
    "\n",
    "X, shape_tuple = prepare_data(data_dict,method)\n",
    "w,h,d = shape_tuple\n",
    "kmeans = run_kmeans(X,k)\n",
    "#gmm = run_gmm(X, k) \n",
    "\n",
    "# colormap\n",
    "cmap = ListedColormap(['tab:red','tab:blue','tab:green','tab:orange'])\n",
    "\n",
    "def plot_map(cmap = cmap):\n",
    "    def get_extent(data_dict):\n",
    "        x_min, x_max = data_dict['longitude'].min(), data_dict['longitude'].max()\n",
    "        y_min, y_max = data_dict['latitude'].min(), data_dict['latitude'].max()\n",
    "        extent = [x_min , x_max, y_min , y_max]\n",
    "        return extent\n",
    "    labels = kmeans.labels_\n",
    "    #labels = gmm.predict(X)\n",
    "    im = plt.imshow(labels.reshape(w,h) ,\n",
    "                cmap= cmap, \n",
    "                interpolation='None', extent = get_extent(data_dict))\n",
    "    # get the colors of the values, according to the \n",
    "    # colormap used by imshow\n",
    "    values = np.unique(labels)\n",
    "    colors = [ im.cmap(im.norm(value)) for value in values]\n",
    "    # create a patch (proxy artist) for every color \n",
    "    patches = [ mpatches.Patch(color=colors[i], label=\"Cluster {l}\".format(l=values[i] +1) ) for i in range(len(values)) ]\n",
    "    # put those patched as legend-handles into the legend\n",
    "    plt.legend(handles=patches, bbox_to_anchor=(1.05, 1), loc=2, borderaxespad=0. )\n",
    "    \n",
    "    plt.show()\n",
    "\n",
    "plot_map()"
   ]
  },
  {
   "cell_type": "markdown",
   "id": "8f36a9f9",
   "metadata": {},
   "source": [
    "# run X means"
   ]
  },
  {
   "cell_type": "code",
   "execution_count": 79,
   "id": "03c69909",
   "metadata": {},
   "outputs": [],
   "source": [
    "amount_initial_centers = 2\n",
    "initial_centers = kmeans_plusplus_initializer(X, amount_initial_centers).initialize()\n",
    "\n",
    "# Create instance of X-Means algorithm. The algorithm will start analysis from 2 clusters, the maximum\n",
    "# number of clusters that can be allocated is 20.\n",
    "xmeans_instance = xmeans(X, initial_centers, 20)\n",
    "xmeans_instance.process()\n",
    "\n",
    "# Extract clustering results: clusters and their centers\n",
    "clusters = xmeans_instance.get_clusters()\n",
    "centers = xmeans_instance.get_centers()"
   ]
  },
  {
   "cell_type": "code",
   "execution_count": null,
   "id": "8b77b3f5",
   "metadata": {},
   "outputs": [],
   "source": []
  },
  {
   "cell_type": "code",
   "execution_count": 120,
   "id": "769f3334",
   "metadata": {},
   "outputs": [],
   "source": [
    "def plot_map2(cmap = cmap):\n",
    "    def get_extent(data_dict):\n",
    "        x_min, x_max = data_dict['longitude'].min(), data_dict['longitude'].max()\n",
    "        y_min, y_max = data_dict['latitude'].min(), data_dict['latitude'].max()\n",
    "        extent = [x_min , x_max, y_min , y_max]\n",
    "        return extent\n",
    "    labels = xmeans_labels\n",
    "    #labels = gmm.predict(X)\n",
    "    im = plt.imshow(labels.reshape(w,h) , \n",
    "                interpolation='None', extent = get_extent(data_dict))\n",
    "    # get the colors of the values, according to the \n",
    "    # colormap used by imshow\n",
    "    values = np.unique(labels)\n",
    "    colors = [ im.cmap(im.norm(value)) for value in values]\n",
    "    # create a patch (proxy artist) for every color \n",
    "    patches = [ mpatches.Patch(color=colors[i], label=\"Cluster {l}\".format(l=values[i] +1) ) for i in range(len(values)) ]\n",
    "    # put those patched as legend-handles into the legend\n",
    "    plt.legend(handles=patches, bbox_to_anchor=(1.05, 1), loc=2, borderaxespad=0. )\n",
    "    \n",
    "    plt.show()"
   ]
  },
  {
   "cell_type": "code",
   "execution_count": 121,
   "id": "8904e4fd",
   "metadata": {},
   "outputs": [
    {
     "data": {
      "image/png": "[encoded data removed]",
      "text/plain": [
       "<Figure size 432x288 with 1 Axes>"
      ]
     },
     "metadata": {
      "needs_background": "light"
     },
     "output_type": "display_data"
    }
   ],
   "source": [
    "plot_map2()"
   ]
  },
  {
   "cell_type": "code",
   "execution_count": 123,
   "id": "86ba8b7a",
   "metadata": {},
   "outputs": [
    {
     "data": {
      "image/png": "[encoded data removed]",
      "text/plain": [
       "<Figure size 432x288 with 1 Axes>"
      ]
     },
     "metadata": {
      "needs_background": "light"
     },
     "output_type": "display_data"
    }
   ],
   "source": [
    "amount_initial_centers = 2\n",
    "initial_centers = kmeans_plusplus_initializer(X, amount_initial_centers).initialize()\n",
    "\n",
    "# Create instance of X-Means algorithm. The algorithm will start analysis from 2 clusters, the maximum\n",
    "# number of clusters that can be allocated is 20.\n",
    "xmeans_instance = xmeans(X, initial_centers, 15)\n",
    "xmeans_instance.process()\n",
    "\n",
    "# Extract clustering results: clusters and their centers\n",
    "clusters = xmeans_instance.get_clusters()\n",
    "centers = xmeans_instance.get_centers()\n",
    "xmeans_labels = np.zeros(len(X))\n",
    "for i in range(len(clusters)):\n",
    "    for idx in clusters[i]:\n",
    "        xmeans_labels[idx] = i\n",
    "plot_map2()"
   ]
  },
  {
   "cell_type": "code",
   "execution_count": null,
   "id": "61207ab9",
   "metadata": {},
   "outputs": [],
   "source": []
  },
  {
   "cell_type": "code",
   "execution_count": null,
   "id": "676ae877",
   "metadata": {},
   "outputs": [],
   "source": []
  },
  {
   "cell_type": "code",
   "execution_count": null,
   "id": "4b3295b9",
   "metadata": {},
   "outputs": [],
   "source": []
  },
  {
   "cell_type": "code",
   "execution_count": null,
   "id": "7a28741f",
   "metadata": {},
   "outputs": [],
   "source": []
  },
  {
   "cell_type": "code",
   "execution_count": null,
   "id": "9d3ac35b",
   "metadata": {},
   "outputs": [],
   "source": []
  },
  {
   "cell_type": "code",
   "execution_count": null,
   "id": "652ccaad",
   "metadata": {},
   "outputs": [],
   "source": []
  },
  {
   "cell_type": "code",
   "execution_count": null,
   "id": "08badd28",
   "metadata": {},
   "outputs": [],
   "source": []
  },
  {
   "cell_type": "code",
   "execution_count": null,
   "id": "25c2ccb9",
   "metadata": {},
   "outputs": [],
   "source": []
  }
 ],
 "metadata": {
  "kernelspec": {
   "display_name": "Python 3 (ipykernel)",
   "language": "python",
   "name": "python3"
  },
  "language_info": {
   "codemirror_mode": {
    "name": "ipython",
    "version": 3
   },
   "file_extension": ".py",
   "mimetype": "text/x-python",
   "name": "python",
   "nbconvert_exporter": "python",
   "pygments_lexer": "ipython3",
   "version": "3.9.12"
  }
 },
 "nbformat": 4,
 "nbformat_minor": 5
}
